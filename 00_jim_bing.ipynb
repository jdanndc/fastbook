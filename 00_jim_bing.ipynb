{
 "cells": [
  {
   "cell_type": "code",
   "execution_count": null,
   "id": "weird-karaoke",
   "metadata": {},
   "outputs": [],
   "source": [
    "import os\n",
    "key = os.environ.get('AZURE_SEARCH_KEY')\n",
    "print(key)"
   ]
  },
  {
   "cell_type": "code",
   "execution_count": null,
   "id": "precious-daughter",
   "metadata": {},
   "outputs": [],
   "source": [
    "print(key)"
   ]
  },
  {
   "cell_type": "code",
   "execution_count": null,
   "id": "invisible-jersey",
   "metadata": {},
   "outputs": [],
   "source": [
    "from utils import search_images_bing\n",
    "\n",
    "search_images_bing\n"
   ]
  },
  {
   "cell_type": "code",
   "execution_count": null,
   "id": "nonprofit-coating",
   "metadata": {},
   "outputs": [],
   "source": [
    "print(key)\n"
   ]
  },
  {
   "cell_type": "code",
   "execution_count": null,
   "id": "interracial-weekend",
   "metadata": {},
   "outputs": [],
   "source": [
    "results = search_images_bing(key, 'christmas mug')\n",
    "print(key)\n",
    "ims = results.attrgot('contentUrl')\n",
    "len(ims)"
   ]
  },
  {
   "cell_type": "code",
   "execution_count": null,
   "id": "spoken-madrid",
   "metadata": {},
   "outputs": [],
   "source": [
    "print(results[0].keys())"
   ]
  },
  {
   "cell_type": "code",
   "execution_count": null,
   "id": "british-ranking",
   "metadata": {},
   "outputs": [],
   "source": [
    "from fastai.data.external import *\n",
    "from fastai.data.transforms import *\n"
   ]
  },
  {
   "cell_type": "code",
   "execution_count": null,
   "id": "starting-premises",
   "metadata": {},
   "outputs": [],
   "source": [
    "dest = 'images/mug_christmas.jpg'\n",
    "download_url(ims[0], dest)\n",
    "im = Image.open(dest)\n",
    "im.to_thumb(128,128)"
   ]
  },
  {
   "cell_type": "code",
   "execution_count": null,
   "id": "protected-jaguar",
   "metadata": {},
   "outputs": [],
   "source": [
    "dir_n_search = {\n",
    "    'christmas': 'christmas mug',\n",
    "    'pottery': 'pottery mug',\n",
    "    'kids': 'kids mug',\n",
    "    'straw': 'mug with straw',\n",
    "    'teacup': 'tea cup'\n",
    "}"
   ]
  },
  {
   "cell_type": "code",
   "execution_count": null,
   "id": "reverse-module",
   "metadata": {},
   "outputs": [],
   "source": [
    "path = Path('00-mugs')\n",
    "print(key)\n",
    "if not path.exists():\n",
    "    path.mkdir()\n",
    "if True:\n",
    "    for k, v in dir_n_search.items():\n",
    "        print(f'{k} => {v}')\n",
    "        dest = (path/k)\n",
    "        dest.mkdir(exist_ok=True)\n",
    "        results = search_images_bing(key, f'{v}')\n",
    "        download_images(dest, urls=results.attrgot('contentUrl'))\n",
    "    "
   ]
  },
  {
   "cell_type": "code",
   "execution_count": null,
   "id": "religious-profession",
   "metadata": {},
   "outputs": [],
   "source": [
    "from fastai.data.transforms import *\n",
    "fns = get_image_files(path)"
   ]
  },
  {
   "cell_type": "code",
   "execution_count": null,
   "id": "broadband-surge",
   "metadata": {},
   "outputs": [],
   "source": [
    "fns"
   ]
  },
  {
   "cell_type": "code",
   "execution_count": null,
   "id": "nuclear-amber",
   "metadata": {},
   "outputs": [],
   "source": [
    "failed = verify_images(fns)\n",
    "failed"
   ]
  },
  {
   "cell_type": "code",
   "execution_count": null,
   "id": "shared-partner",
   "metadata": {},
   "outputs": [],
   "source": [
    "failed.map(Path.unlink)\n"
   ]
  },
  {
   "cell_type": "code",
   "execution_count": null,
   "id": "medium-spyware",
   "metadata": {},
   "outputs": [],
   "source": [
    "len(fns)"
   ]
  },
  {
   "cell_type": "code",
   "execution_count": null,
   "id": "bearing-terminology",
   "metadata": {},
   "outputs": [],
   "source": [
    "?verify_images"
   ]
  },
  {
   "cell_type": "code",
   "execution_count": null,
   "id": "medieval-amino",
   "metadata": {},
   "outputs": [],
   "source": [
    "mugs = DataBlock(\n",
    "    blocks=(ImageBlock, CategoryBlock),\n",
    "    get_items=get_image_files,\n",
    "    splitter=RandomSplitter(valid_pct=0.2, seed=42),\n",
    "    get_y=parent_label,\n",
    "    item_tfms=Resize(128)\n",
    ")"
   ]
  },
  {
   "cell_type": "code",
   "execution_count": null,
   "id": "rotary-stream",
   "metadata": {},
   "outputs": [],
   "source": [
    "mugs"
   ]
  },
  {
   "cell_type": "code",
   "execution_count": null,
   "id": "superb-spider",
   "metadata": {},
   "outputs": [],
   "source": [
    "dls = mugs.dataloaders(path)"
   ]
  },
  {
   "cell_type": "code",
   "execution_count": null,
   "id": "personalized-therapist",
   "metadata": {},
   "outputs": [],
   "source": [
    "dls"
   ]
  },
  {
   "cell_type": "code",
   "execution_count": null,
   "id": "checked-gateway",
   "metadata": {},
   "outputs": [],
   "source": [
    "?dls\n"
   ]
  },
  {
   "cell_type": "code",
   "execution_count": null,
   "id": "smooth-remainder",
   "metadata": {},
   "outputs": [],
   "source": [
    "??dls\n"
   ]
  },
  {
   "cell_type": "code",
   "execution_count": null,
   "id": "blank-sugar",
   "metadata": {},
   "outputs": [],
   "source": [
    "dls.valid.show_batch(max_n=4, nrows=1)"
   ]
  },
  {
   "cell_type": "code",
   "execution_count": null,
   "id": "active-sarah",
   "metadata": {},
   "outputs": [],
   "source": [
    "mugs2 = mugs.new(item_tfms=RandomResizedCrop(224, min_scale=0.5),\n",
    "                batch_tfms=aug_transforms())\n",
    "dls = mugs2.dataloaders(path)"
   ]
  },
  {
   "cell_type": "code",
   "execution_count": null,
   "id": "palestinian-hormone",
   "metadata": {},
   "outputs": [],
   "source": [
    "learn = cnn_learner(dls, resnet18, metrics=error_rate)\n",
    "learn.fine_tune(4)"
   ]
  },
  {
   "cell_type": "code",
   "execution_count": null,
   "id": "desperate-albert",
   "metadata": {},
   "outputs": [],
   "source": []
  }
 ],
 "metadata": {
  "kernelspec": {
   "display_name": "Python3 (fastai_env)",
   "language": "python",
   "name": "fastai_env"
  },
  "language_info": {
   "codemirror_mode": {
    "name": "ipython",
    "version": 3
   },
   "file_extension": ".py",
   "mimetype": "text/x-python",
   "name": "python",
   "nbconvert_exporter": "python",
   "pygments_lexer": "ipython3",
   "version": "3.7.3"
  }
 },
 "nbformat": 4,
 "nbformat_minor": 5
}
